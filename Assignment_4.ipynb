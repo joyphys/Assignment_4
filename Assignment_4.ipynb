{
 "cells": [
  {
   "cell_type": "code",
   "execution_count": null,
   "id": "0667aaaa",
   "metadata": {},
   "outputs": [],
   "source": [
    "1. What exactly is []?\n",
    "\n",
    "An empty list.\n"
   ]
  },
  {
   "cell_type": "code",
   "execution_count": 2,
   "id": "6b0997d8",
   "metadata": {},
   "outputs": [],
   "source": [
    "2. In a list of values stored in a variable called spam, \n",
    "how would you assign the value 'hello' as the third value? \n",
    "(Assume [2, 4, 6, 8, 10] are in spam.)\n",
    "\n",
    "I wil first assign the list as a variable. Then will do the \n",
    "a=[2, 4, 6, 8, 10]\n",
    "\n",
    "a[2]=\"hello\""
   ]
  },
  {
   "cell_type": "code",
   "execution_count": 4,
   "id": "f0848441",
   "metadata": {},
   "outputs": [],
   "source": [
    "Let's pretend the spam includes the list ['a', 'b', 'c', 'd'] for the next three queries.\n",
    "3. What is the value of spam[int(int('3' * 2) / 11)]?\n",
    "'d'\n",
    "4. What is the value of spam[-1]?\n",
    "'d'\n",
    "5. What is the value of spam[:2]?\n",
    "['a','b']\n"
   ]
  },
  {
   "cell_type": "code",
   "execution_count": 8,
   "id": "102d2d01",
   "metadata": {},
   "outputs": [],
   "source": [
    "Let's pretend bacon has the list [3.14, 'cat,' 11, 'cat,' True] for the next three questions.\n",
    "6. What is the value of bacon.index('cat')?\n",
    "1\n",
    "7. How does bacon.append(99) change the look of the list value in bacon?\n",
    "[3.14, 'cat', 11, 'cat', True, 99]\n",
    "8. How does bacon.remove('cat') change the look of the list in bacon?\n",
    "[3.14, 11, 'cat', True]\n"
   ]
  },
  {
   "cell_type": "code",
   "execution_count": null,
   "id": "aa7e5d36",
   "metadata": {},
   "outputs": [],
   "source": [
    "9. What are the list concatenation and list replication operators?\n",
    "\n",
    "a=[1,2,3,4]\n",
    "b=[4,5,6,7]\n",
    "\n",
    "concatenation: c=a+b\n",
    "    \n",
    "    \n",
    "    This will concatenate list a and list b and write the final as a list in c.\n",
    "    \n",
    "replication: c=a*3\n",
    " \n",
    "      This will replicate list a three times and assign the final as a list in c."
   ]
  },
  {
   "cell_type": "code",
   "execution_count": 24,
   "id": "da7c1cf4",
   "metadata": {},
   "outputs": [],
   "source": [
    "10. What is difference between the list methods append() and insert()?\n",
    "\n",
    "\n",
    "list append operation appends a value at the end of the list. It has a single argument, i.e. the value.\n",
    "\n",
    "list insert operation inserts a value at a specified position in the list. It has two arguments, \n",
    "first is the indedx and second is the value.\n",
    "\n",
    "Say 'l' is a list.\n",
    "l=[7, 8, 9,'hello',5+4j,True]\n",
    "\n",
    "We wish to append l with a value 'hello world'\n",
    "l.append('hello world')\n",
    " The final expression of l will be [7, 8, 9,'hello',5+4j,True,'hello world']\n",
    "                                    \n",
    "Again, say we wish to insert a value 83.89 into l at the position with index 2.\n",
    "            l.insert(2, 83.89)\n",
    "            The final expression for l will be [7, 8, 83.89, 9,'hello',5+4j,True,'hello world']\n"
   ]
  },
  {
   "cell_type": "code",
   "execution_count": 42,
   "id": "e31c930e",
   "metadata": {},
   "outputs": [],
   "source": [
    "11. What are the two methods for removing items from a list?\n",
    "\n",
    "One is list.remove() and the other is list.pop(). list.remove() removes a value from the list given as the argument. \n",
    "It removes only the first occurrence of the valuet in the list.\n",
    "\n",
    "list.pop() removes a value at a particular position specified by the corresponding index as the argument. \n",
    "\n",
    "Sat l is a list l=[7, 8, 9, 'hello',5+4j,True,9,'hello world']\n",
    "\n",
    "It has the value 9 occurring twice. If we wish to remove 9 from the list,\n",
    "l.remove(9)\n",
    "The fInal expression for l will be l=[7, 8, 9, 'hello',5+4j,True,9,'hello world']\n",
    "\n",
    "Now if we wish to remove the element at the 3rd position in the list,\n",
    "l.pop(2)\n",
    "\n",
    "The final expression for l will  be l=[7, 8, 'hello',5+4j,True,9,'hello world']."
   ]
  },
  {
   "cell_type": "code",
   "execution_count": 43,
   "id": "de6d9b82",
   "metadata": {},
   "outputs": [],
   "source": [
    "12. Describe how list values and string values are identical.\n",
    "\n",
    "Both list and stroig are iterable objects. In both of them, the entries are associated with corresponding indices. \n",
    "We can iterate through the values with the help of indices. We can, for example use for loop. It wil print each of the \n",
    "\n",
    "\n",
    "s='text'\n",
    "for i in s:\n",
    "    print(i)\n",
    "    It will print each of the characters.\n",
    "    \n",
    "a=[1,2,3,4]\n",
    "for i in a:\n",
    "    print(i)\n",
    "    It wil print each of the values."
   ]
  },
  {
   "cell_type": "code",
   "execution_count": 54,
   "id": "22d22d53",
   "metadata": {},
   "outputs": [],
   "source": [
    "13. What's the difference between tuples and lists?\n",
    "\n",
    "Both lists and tuples are collection of objects.\n",
    "lists are mutable, the values can be added, removed or changed. Tuples are immutable, the values can't be changed.\n",
    "\n",
    " Tuples don't allow item assignement operation, wjile list allows that.\n",
    "\n",
    "a=[1,2,3,4]\n",
    "a[1]=7 will  be executed.\n",
    "Final: a=[1,7,3,4]\n",
    "    \n",
    "b=(1,2,3,4)\n",
    "b[1]=7 will show error.\n",
    "\n"
   ]
  },
  {
   "cell_type": "code",
   "execution_count": 58,
   "id": "6dceceee",
   "metadata": {},
   "outputs": [],
   "source": [
    "14. How do you type a tuple value that only contains the integer 42?\n",
    "\n",
    "We have to write the value with a comma following it. Like t=(42,)\n",
    "\n",
    "If we write like t=(42), it won't take as a tuple."
   ]
  },
  {
   "cell_type": "code",
   "execution_count": 83,
   "id": "3023f504",
   "metadata": {},
   "outputs": [],
   "source": [
    "15. How do you get a list value's tuple form? How do you get a tuple value's list form?\n",
    "\n",
    "Say a is a list.\n",
    "\n",
    "a=[1,2,3,4]\n",
    "\n",
    "To get the tuple form of a, tuple(a).\n",
    "It will print as (1,2,3,4)\n",
    "\n",
    "Say b is a tuple. b=(1,2,3,4).\n",
    "To get the list form of b, list(b). \n",
    "It will print as [1,2,3,4]\n",
    "\n"
   ]
  },
  {
   "cell_type": "code",
   "execution_count": null,
   "id": "6ea14f6d",
   "metadata": {},
   "outputs": [],
   "source": [
    "16. Variables that \"contain\" list values are not necessarily lists themselves. Instead, what do they contain?\n",
    "They can be integers, floats,strings,complex numbers, booleans,tuples,lists etc.\n",
    "\n"
   ]
  },
  {
   "cell_type": "code",
   "execution_count": 89,
   "id": "33b22e41",
   "metadata": {},
   "outputs": [],
   "source": [
    "\n",
    "17. How do you distinguish between copy.copy() and copy.deepcopy()?\n",
    "\n",
    "\n",
    "copy.copy() create reference to original object. If the copied object is changed, it will also change the original object. \n",
    "copy.deepcopy() creates new object with no reference to theoriginal object.\n",
    "Changing new deepcopied object doesn't affect original object.\n",
    "\n",
    "#copy\n",
    "a=[1,2,3,[4,5,6]]\n",
    "\n",
    "import copy\n",
    "b=copy.copy(a)\n",
    "\n",
    "b: [1,2,3,[4,5,6]]\n",
    "b[3][1]=99\n",
    "b: [1, 2, 3, [4, 99, 6]]\n",
    "a:    [1, 2, 3, [4, 99, 6]]\n",
    "\n",
    "    #deepcopy\n",
    "a=[1,2,3,[4,5,6]]\n",
    "import copy\n",
    "c=copy.deepcopy(a)\n",
    "c: [1,2,3,[4,5,6]]\n",
    "c[3][1]=99\n",
    "c: [1, 2, 3, [4, 99, 6]]\n",
    "a:[1,2,3,[4,5,6]]"
   ]
  }
 ],
 "metadata": {
  "kernelspec": {
   "display_name": "Python 3 (ipykernel)",
   "language": "python",
   "name": "python3"
  },
  "language_info": {
   "codemirror_mode": {
    "name": "ipython",
    "version": 3
   },
   "file_extension": ".py",
   "mimetype": "text/x-python",
   "name": "python",
   "nbconvert_exporter": "python",
   "pygments_lexer": "ipython3",
   "version": "3.9.7"
  }
 },
 "nbformat": 4,
 "nbformat_minor": 5
}
